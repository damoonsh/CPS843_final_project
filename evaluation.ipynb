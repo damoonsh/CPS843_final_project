{
 "cells": [
  {
   "cell_type": "code",
   "execution_count": 6,
   "metadata": {},
   "outputs": [],
   "source": [
    "import pandas as pd\n",
    "import random\n",
    "import glob\n",
    "import cv2\n",
    "import numpy as np\n",
    "import matplotlib.pyplot as plt\n",
    "from tensorflow.keras.preprocessing.image import apply_affine_transform as Affine, apply_channel_shift as CShift\n",
    "from utils import *\n",
    "\n",
    "val_info = pd.read_csv('./val_info.csv')\n",
    "info = pd.read_csv('./image_info.csv')"
   ]
  },
  {
   "cell_type": "code",
   "execution_count": 56,
   "metadata": {},
   "outputs": [],
   "source": [
    "\n",
    "\n",
    "# Partitioning the data\n",
    "# c1 = info.query('mask == 1 & whites < 800').sample(n=100,random_state=101).reset_index(drop=True)\n",
    "# c2 = info.query('mask == 1 & whites >= 800 & whites < 1600').sample(n=100,random_state=101).reset_index(drop=True)\n",
    "# c3 = info.query('mask == 1 & whites >= 1600 & whites < 2400').sample(n=100,random_state=101).reset_index(drop=True)\n",
    "# c4 = info.query('mask == 1 & whites >= 2400 & whites < 3200').sample(n=100,random_state=101).reset_index(drop=True)\n",
    "# c5 = info.query('mask == 1 & whites >= 3200').sample(n=100,random_state=101).reset_index(drop=True)\n",
    "\n",
    "# c1['Category'] = 'C1'\n",
    "# c2['Category'] = 'C2'\n",
    "# c3['Category'] = 'C3'\n",
    "# c4['Category'] = 'C4'\n",
    "# c5['Category'] = 'C5'\n",
    "\n",
    "# raw_eval = pd.concat([c1,c2,c3,c4,c5]).reset_index(drop=True)\n",
    "# raw_eval.drop(['mask'], axis=1, inplace=True)\n",
    "\n",
    "# gen_val_data = {\n",
    "#     'file_name': [],\n",
    "#     'img_path': [],\n",
    "#     'mask_path': [],\n",
    "#     'whites': [],\n",
    "#     'Category' : []\n",
    "# }\n",
    "\n",
    "# def gen_val_image(image_path, mask_path, whites, cat):\n",
    "    \n",
    "#     name = image_path.split('/')[-1][:-4]\n",
    "#     im = load_image(image_path)\n",
    "#     ims = [None, None, None]\n",
    "\n",
    "#     ims[0] = power_law_combination(im, [1.2, 1.5, 1.6])\n",
    "#     ims[1] = power_law_combination(im, [0.1, 1.7, 2.3])\n",
    "#     ims[2] = power_law_combination(im, [0.7, 1.1, 1.5])\n",
    "\n",
    "#     OUTPUT_PATH = './augmentation/validation/'\n",
    "\n",
    "#     for i in range(3):\n",
    "#         file_name = f'{name}_{i}.tif'\n",
    "#         im_path = f'{OUTPUT_PATH}{file_name}.tif'\n",
    "#         cv2.imwrite(im_path, ims[i])\n",
    "\n",
    "#         gen_val_data['file_name'].append(file_name)\n",
    "#         gen_val_data['img_path'].append(im_path)\n",
    "#         gen_val_data['mask_path'].append(mask_path)\n",
    "#         gen_val_data['whites'].append(whites)\n",
    "#         gen_val_data['Category'].append(cat)\n",
    "\n",
    "# _ = raw_eval.apply(lambda x: gen_val_image(x.img_path, x.mask_path, x.whites, x.Category), axis=1)\n",
    "\n",
    "# pd.concat([raw_eval, pd.DataFrame(gen_val_data)]).sort_values(['Category', 'whites']).reset_index(drop=True).to_csv('val_info.csv', index=0)"
   ]
  },
  {
   "cell_type": "code",
   "execution_count": 12,
   "metadata": {},
   "outputs": [
    {
     "data": {
      "text/html": [
       "<div>\n",
       "<style scoped>\n",
       "    .dataframe tbody tr th:only-of-type {\n",
       "        vertical-align: middle;\n",
       "    }\n",
       "\n",
       "    .dataframe tbody tr th {\n",
       "        vertical-align: top;\n",
       "    }\n",
       "\n",
       "    .dataframe thead th {\n",
       "        text-align: right;\n",
       "    }\n",
       "</style>\n",
       "<table border=\"1\" class=\"dataframe\">\n",
       "  <thead>\n",
       "    <tr style=\"text-align: right;\">\n",
       "      <th></th>\n",
       "      <th>file_name</th>\n",
       "      <th>img_path</th>\n",
       "      <th>mask_path</th>\n",
       "      <th>whites</th>\n",
       "      <th>mask</th>\n",
       "    </tr>\n",
       "  </thead>\n",
       "  <tbody>\n",
       "    <tr>\n",
       "      <th>0</th>\n",
       "      <td>TCGA_FG_A60K_20040224_62</td>\n",
       "      <td>./archive/kaggle_3m/TCGA_FG_A60K_20040224/TCGA...</td>\n",
       "      <td>./archive/kaggle_3m/TCGA_FG_A60K_20040224/TCGA...</td>\n",
       "      <td>0</td>\n",
       "      <td>0</td>\n",
       "    </tr>\n",
       "    <tr>\n",
       "      <th>1</th>\n",
       "      <td>TCGA_HT_A61A_20000127_30</td>\n",
       "      <td>./archive/kaggle_3m/TCGA_DU_A5TT_19980318/TCGA...</td>\n",
       "      <td>./archive/kaggle_3m/TCGA_DU_A5TT_19980318/TCGA...</td>\n",
       "      <td>0</td>\n",
       "      <td>0</td>\n",
       "    </tr>\n",
       "    <tr>\n",
       "      <th>2</th>\n",
       "      <td>TCGA_HT_7877_19980917_16</td>\n",
       "      <td>./archive/kaggle_3m/TCGA_DU_6400_19830518/TCGA...</td>\n",
       "      <td>./archive/kaggle_3m/TCGA_DU_6400_19830518/TCGA...</td>\n",
       "      <td>0</td>\n",
       "      <td>0</td>\n",
       "    </tr>\n",
       "    <tr>\n",
       "      <th>3</th>\n",
       "      <td>TCGA_DU_6399_19830416_21</td>\n",
       "      <td>./archive/kaggle_3m/TCGA_DU_7309_19960831/TCGA...</td>\n",
       "      <td>./archive/kaggle_3m/TCGA_DU_7309_19960831/TCGA...</td>\n",
       "      <td>0</td>\n",
       "      <td>0</td>\n",
       "    </tr>\n",
       "    <tr>\n",
       "      <th>4</th>\n",
       "      <td>TCGA_FG_A4MT_20020212_29</td>\n",
       "      <td>./archive/kaggle_3m/TCGA_FG_8189_20030516/TCGA...</td>\n",
       "      <td>./archive/kaggle_3m/TCGA_FG_8189_20030516/TCGA...</td>\n",
       "      <td>0</td>\n",
       "      <td>0</td>\n",
       "    </tr>\n",
       "    <tr>\n",
       "      <th>...</th>\n",
       "      <td>...</td>\n",
       "      <td>...</td>\n",
       "      <td>...</td>\n",
       "      <td>...</td>\n",
       "      <td>...</td>\n",
       "    </tr>\n",
       "    <tr>\n",
       "      <th>995</th>\n",
       "      <td>TCGA_EZ_7264_20010816_20</td>\n",
       "      <td>./archive/kaggle_3m/TCGA_DU_6401_19831001/TCGA...</td>\n",
       "      <td>./archive/kaggle_3m/TCGA_DU_6401_19831001/TCGA...</td>\n",
       "      <td>0</td>\n",
       "      <td>0</td>\n",
       "    </tr>\n",
       "    <tr>\n",
       "      <th>996</th>\n",
       "      <td>TCGA_FG_A60K_20040224_68</td>\n",
       "      <td>./archive/kaggle_3m/TCGA_HT_7881_19981015/TCGA...</td>\n",
       "      <td>./archive/kaggle_3m/TCGA_HT_7881_19981015/TCGA...</td>\n",
       "      <td>0</td>\n",
       "      <td>0</td>\n",
       "    </tr>\n",
       "    <tr>\n",
       "      <th>997</th>\n",
       "      <td>TCGA_DU_5871_19941206_16</td>\n",
       "      <td>./archive/kaggle_3m/TCGA_DU_8163_19961119/TCGA...</td>\n",
       "      <td>./archive/kaggle_3m/TCGA_DU_8163_19961119/TCGA...</td>\n",
       "      <td>0</td>\n",
       "      <td>0</td>\n",
       "    </tr>\n",
       "    <tr>\n",
       "      <th>998</th>\n",
       "      <td>TCGA_CS_6666_20011109_7</td>\n",
       "      <td>./archive/kaggle_3m/TCGA_FG_6690_20020226/TCGA...</td>\n",
       "      <td>./archive/kaggle_3m/TCGA_FG_6690_20020226/TCGA...</td>\n",
       "      <td>0</td>\n",
       "      <td>0</td>\n",
       "    </tr>\n",
       "    <tr>\n",
       "      <th>999</th>\n",
       "      <td>TCGA_DU_5852_19950709_1</td>\n",
       "      <td>./archive/kaggle_3m/TCGA_DU_A5TS_19970726/TCGA...</td>\n",
       "      <td>./archive/kaggle_3m/TCGA_DU_A5TS_19970726/TCGA...</td>\n",
       "      <td>0</td>\n",
       "      <td>0</td>\n",
       "    </tr>\n",
       "  </tbody>\n",
       "</table>\n",
       "<p>1000 rows × 5 columns</p>\n",
       "</div>"
      ],
      "text/plain": [
       "                    file_name  \\\n",
       "0    TCGA_FG_A60K_20040224_62   \n",
       "1    TCGA_HT_A61A_20000127_30   \n",
       "2    TCGA_HT_7877_19980917_16   \n",
       "3    TCGA_DU_6399_19830416_21   \n",
       "4    TCGA_FG_A4MT_20020212_29   \n",
       "..                        ...   \n",
       "995  TCGA_EZ_7264_20010816_20   \n",
       "996  TCGA_FG_A60K_20040224_68   \n",
       "997  TCGA_DU_5871_19941206_16   \n",
       "998   TCGA_CS_6666_20011109_7   \n",
       "999   TCGA_DU_5852_19950709_1   \n",
       "\n",
       "                                              img_path  \\\n",
       "0    ./archive/kaggle_3m/TCGA_FG_A60K_20040224/TCGA...   \n",
       "1    ./archive/kaggle_3m/TCGA_DU_A5TT_19980318/TCGA...   \n",
       "2    ./archive/kaggle_3m/TCGA_DU_6400_19830518/TCGA...   \n",
       "3    ./archive/kaggle_3m/TCGA_DU_7309_19960831/TCGA...   \n",
       "4    ./archive/kaggle_3m/TCGA_FG_8189_20030516/TCGA...   \n",
       "..                                                 ...   \n",
       "995  ./archive/kaggle_3m/TCGA_DU_6401_19831001/TCGA...   \n",
       "996  ./archive/kaggle_3m/TCGA_HT_7881_19981015/TCGA...   \n",
       "997  ./archive/kaggle_3m/TCGA_DU_8163_19961119/TCGA...   \n",
       "998  ./archive/kaggle_3m/TCGA_FG_6690_20020226/TCGA...   \n",
       "999  ./archive/kaggle_3m/TCGA_DU_A5TS_19970726/TCGA...   \n",
       "\n",
       "                                             mask_path  whites  mask  \n",
       "0    ./archive/kaggle_3m/TCGA_FG_A60K_20040224/TCGA...       0     0  \n",
       "1    ./archive/kaggle_3m/TCGA_DU_A5TT_19980318/TCGA...       0     0  \n",
       "2    ./archive/kaggle_3m/TCGA_DU_6400_19830518/TCGA...       0     0  \n",
       "3    ./archive/kaggle_3m/TCGA_DU_7309_19960831/TCGA...       0     0  \n",
       "4    ./archive/kaggle_3m/TCGA_FG_8189_20030516/TCGA...       0     0  \n",
       "..                                                 ...     ...   ...  \n",
       "995  ./archive/kaggle_3m/TCGA_DU_6401_19831001/TCGA...       0     0  \n",
       "996  ./archive/kaggle_3m/TCGA_HT_7881_19981015/TCGA...       0     0  \n",
       "997  ./archive/kaggle_3m/TCGA_DU_8163_19961119/TCGA...       0     0  \n",
       "998  ./archive/kaggle_3m/TCGA_FG_6690_20020226/TCGA...       0     0  \n",
       "999  ./archive/kaggle_3m/TCGA_DU_A5TS_19970726/TCGA...       0     0  \n",
       "\n",
       "[1000 rows x 5 columns]"
      ]
     },
     "execution_count": 12,
     "metadata": {},
     "output_type": "execute_result"
    }
   ],
   "source": []
  },
  {
   "cell_type": "code",
   "execution_count": 14,
   "metadata": {},
   "outputs": [],
   "source": [
    "raw = info.query('mask == 0').sample(n=1000, random_state=101).reset_index(drop=True)\n",
    "\n",
    "gen_aug_data = {\n",
    "    'file_name': [],\n",
    "    'img_path': [],\n",
    "    'mask_path': [],\n",
    "    'whites': []\n",
    "}\n",
    "\n",
    "def gen_aug_image(image_path, mask_path, whites):\n",
    "    \n",
    "    name = image_path.split('/')[-1][:-4]\n",
    "    im = load_image(image_path)\n",
    "    im = power_law_combination(im, [0.1, 1.7, 2.3])\n",
    "\n",
    "    OUTPUT_PATH = './augmentation/validation_overall/'\n",
    "    \n",
    "    file_name = f'{name}_aug.tif'\n",
    "    im_path = f'{OUTPUT_PATH}{file_name}.tif'\n",
    "    cv2.imwrite(im_path, im)\n",
    "\n",
    "    gen_aug_data['file_name'].append(file_name)\n",
    "    gen_aug_data['img_path'].append(im_path)\n",
    "    gen_aug_data['mask_path'].append(mask_path)\n",
    "    gen_aug_data['whites'].append(whites)\n",
    "\n",
    "_ = raw.apply(lambda x: gen_aug_image(x.img_path, x.mask_path, x.whites), axis=1)"
   ]
  },
  {
   "cell_type": "code",
   "execution_count": 20,
   "metadata": {},
   "outputs": [],
   "source": [
    "df = pd.concat([pd.DataFrame(gen_aug_data), raw, val_info]).reset_index(drop=True)"
   ]
  },
  {
   "cell_type": "code",
   "execution_count": 22,
   "metadata": {},
   "outputs": [],
   "source": [
    "df.to_csv('overall_val.csv', index=False)"
   ]
  },
  {
   "cell_type": "code",
   "execution_count": 23,
   "metadata": {},
   "outputs": [],
   "source": [
    "from keras.models import load_model\n",
    "from tensorflow.keras import backend as K\n",
    "\n",
    "smooth =100\n",
    "\n",
    "def iou(y_true, y_pred):\n",
    "    intersection = K.sum(y_true * y_pred)\n",
    "    sum_ = K.sum(y_true + y_pred)\n",
    "    jac = (intersection + smooth) / (sum_ - intersection + smooth)\n",
    "    return jac\n",
    "\n",
    "def dice_coef(y_true, y_pred):\n",
    "    y_truef=K.flatten(y_true)\n",
    "    y_predf=K.flatten(y_pred)\n",
    "    And=K.sum(y_truef* y_predf)\n",
    "    return((2* And + smooth) / (K.sum(y_truef) + K.sum(y_predf) + smooth))\n",
    "\n",
    "def dice_coef_loss(y_true, y_pred):\n",
    "    return 1-dice_coef(y_true, y_pred)\n",
    "\n",
    "def get_batch(df):\n",
    "    LEN = len(df)\n",
    "\n",
    "    ims = []\n",
    "    mss = []\n",
    "\n",
    "    for index, row in df.iterrows():\n",
    "        ims.append(load_image(row['img_path']))\n",
    "        mss.append(load_image(row['mask_path']))\n",
    "\n",
    "    return np.array(ims), np.array(mss).reshape((LEN, 256, 256, 1))"
   ]
  },
  {
   "cell_type": "code",
   "execution_count": 3,
   "metadata": {},
   "outputs": [],
   "source": [
    "def eval_model(model_name):\n",
    "    model = load_model(f'./models/{model_name}', compile=False)\n",
    "\n",
    "    avg_iou = 0\n",
    "    avg_dice = 0\n",
    "\n",
    "    for index in range(1, 6):\n",
    "        images, masks = get_batch(val_info.query(f\"Category == 'C{index}'\"))\n",
    "\n",
    "        preds = model.predict(images)\n",
    "\n",
    "        iou_metric  = round(iou(preds, masks).numpy(), 7)\n",
    "        dice_metric = round(dice_coef(preds, masks).numpy(), 7)\n",
    "        \n",
    "        print(f'Category {index}')\n",
    "        print(f'iou : {iou_metric}')\n",
    "        print(f'dice: {dice_metric}')\n",
    "\n",
    "        avg_iou += iou_metric\n",
    "        avg_dice += dice_metric\n",
    "\n",
    "    avg_iou /=  5\n",
    "    avg_dice /= 5    \n",
    "    \n",
    "    print(f'Average IOU: {avg_iou}')\n",
    "    print(f'Average Dice: {avg_dice}')"
   ]
  },
  {
   "cell_type": "code",
   "execution_count": 26,
   "metadata": {},
   "outputs": [
    {
     "name": "stderr",
     "output_type": "stream",
     "text": [
      "2022-12-08 23:04:26.886395: I tensorflow/core/grappler/optimizers/custom_graph_optimizer_registry.cc:114] Plugin optimizer for device_type GPU is enabled.\n"
     ]
    },
    {
     "name": "stdout",
     "output_type": "stream",
     "text": [
      "125/125 [==============================] - 283s 2s/step\n",
      "Model base_model.hdf5\n",
      "iou : 3.5000000480067683e-06\n",
      "dice: 0.014496900141239166\n",
      "----------------------------------\n"
     ]
    },
    {
     "name": "stderr",
     "output_type": "stream",
     "text": [
      "2022-12-08 23:09:15.435360: I tensorflow/core/grappler/optimizers/custom_graph_optimizer_registry.cc:114] Plugin optimizer for device_type GPU is enabled.\n"
     ]
    },
    {
     "name": "stdout",
     "output_type": "stream",
     "text": [
      "125/125 [==============================] - 329s 3s/step\n",
      "Model cpl_unbalanced.h5\n",
      "iou : 0.9813082218170166\n",
      "dice: 5.18000015290454e-05\n",
      "----------------------------------\n"
     ]
    },
    {
     "name": "stderr",
     "output_type": "stream",
     "text": [
      "2022-12-08 23:14:50.115070: I tensorflow/core/grappler/optimizers/custom_graph_optimizer_registry.cc:114] Plugin optimizer for device_type GPU is enabled.\n"
     ]
    },
    {
     "name": "stdout",
     "output_type": "stream",
     "text": [
      "125/125 [==============================] - 357s 3s/step\n",
      "Model cpl_balanced.h5\n",
      "iou : 0.8063759803771973\n",
      "dice: 5.249999958323315e-05\n",
      "----------------------------------\n"
     ]
    },
    {
     "name": "stderr",
     "output_type": "stream",
     "text": [
      "2022-12-08 23:20:51.620650: I tensorflow/core/grappler/optimizers/custom_graph_optimizer_registry.cc:114] Plugin optimizer for device_type GPU is enabled.\n"
     ]
    },
    {
     "name": "stdout",
     "output_type": "stream",
     "text": [
      "125/125 [==============================] - 375s 3s/step\n",
      "Model lg_unbalanced.h5\n",
      "iou : 0.9727200865745544\n",
      "dice: 5.18000015290454e-05\n",
      "----------------------------------\n"
     ]
    },
    {
     "name": "stderr",
     "output_type": "stream",
     "text": [
      "2022-12-08 23:27:11.465866: I tensorflow/core/grappler/optimizers/custom_graph_optimizer_registry.cc:114] Plugin optimizer for device_type GPU is enabled.\n"
     ]
    },
    {
     "name": "stdout",
     "output_type": "stream",
     "text": [
      "125/125 [==============================] - 384s 3s/step\n",
      "Model lg_balanced.h5\n",
      "iou : 0.013797200284898281\n",
      "dice: 0.0002610000083222985\n",
      "----------------------------------\n"
     ]
    },
    {
     "name": "stderr",
     "output_type": "stream",
     "text": [
      "2022-12-08 23:33:39.635127: I tensorflow/core/grappler/optimizers/custom_graph_optimizer_registry.cc:114] Plugin optimizer for device_type GPU is enabled.\n"
     ]
    },
    {
     "name": "stdout",
     "output_type": "stream",
     "text": [
      "125/125 [==============================] - 398s 3s/step\n",
      "Model log_cpl_unbalanced.h5\n",
      "iou : 0.9963842034339905\n",
      "dice: 5.1700000767596066e-05\n",
      "----------------------------------\n"
     ]
    },
    {
     "name": "stderr",
     "output_type": "stream",
     "text": [
      "2022-12-08 23:40:23.363490: I tensorflow/core/grappler/optimizers/custom_graph_optimizer_registry.cc:114] Plugin optimizer for device_type GPU is enabled.\n"
     ]
    },
    {
     "name": "stdout",
     "output_type": "stream",
     "text": [
      "125/125 [==============================] - 422s 3s/step\n",
      "Model log_cpl_balanced.h5\n",
      "iou : 0.9398316740989685\n",
      "dice: 5.1700000767596066e-05\n",
      "----------------------------------\n"
     ]
    }
   ],
   "source": [
    "def general_eval(model_names):\n",
    "\n",
    "    images, masks = get_batch(df)\n",
    "\n",
    "    for model_name in model_names:\n",
    "        model = load_model(f'./models/{model_name}', compile=False)\n",
    "\n",
    "        preds = model.predict(images)\n",
    "\n",
    "        iou_metric  = round(iou(preds, masks).numpy(), 7)\n",
    "        dice_metric = round(dice_coef(preds, masks).numpy(), 7)\n",
    "        print(f'Model {model_name}')\n",
    "        print(f'iou : {iou_metric}')\n",
    "        print(f'dice: {dice_metric}')\n",
    "        print('----------------------------------')\n",
    "\n",
    "names = [\n",
    "    'base_model.hdf5',\n",
    "    'cpl_unbalanced.h5',\n",
    "    'cpl_balanced.h5',\n",
    "    'lg_unbalanced.h5',\n",
    "    'lg_balanced.h5',\n",
    "    'log_cpl_unbalanced.h5',\n",
    "    'log_cpl_balanced.h5'\n",
    "]\n",
    "\n",
    "general_eval(names)"
   ]
  },
  {
   "cell_type": "code",
   "execution_count": 98,
   "metadata": {},
   "outputs": [
    {
     "name": "stdout",
     "output_type": "stream",
     "text": [
      "13/13 [==============================] - 27s 2s/step\n",
      "Category 1\n",
      "iou : 0.0033605999778956175\n",
      "dice: 0.006690099835395813\n",
      "13/13 [==============================] - 26s 2s/step\n",
      "Category 2\n",
      "iou : 0.009964300319552422\n",
      "dice: 0.0197237990796566\n",
      "13/13 [==============================] - 27s 2s/step\n",
      "Category 3\n",
      "iou : 0.015772299841046333\n",
      "dice: 0.031046800315380096\n",
      "13/13 [==============================] - 34s 3s/step\n",
      "Category 4\n",
      "iou : 0.024824099615216255\n",
      "dice: 0.04843800142407417\n",
      "13/13 [==============================] - 36s 3s/step\n",
      "Category 5\n",
      "iou : 0.07278910279273987\n",
      "dice: 0.1356942057609558\n"
     ]
    }
   ],
   "source": [
    "for index in range(1, 6):\n",
    "    images, masks = get_batch(val_info.query(f\"Category == 'C{index}'\"))\n",
    "\n",
    "    preds = base.predict(images)\n",
    "    \n",
    "    print(f'Category {index}')\n",
    "    print(f'iou : {round(iou(preds, masks).numpy(), 7)}')\n",
    "    print(f'dice: {round(dice_coef(preds, masks).numpy(), 7)}')"
   ]
  },
  {
   "cell_type": "code",
   "execution_count": 111,
   "metadata": {},
   "outputs": [
    {
     "name": "stderr",
     "output_type": "stream",
     "text": [
      "2022-12-07 19:06:14.727484: I tensorflow/core/grappler/optimizers/custom_graph_optimizer_registry.cc:114] Plugin optimizer for device_type GPU is enabled.\n"
     ]
    },
    {
     "name": "stdout",
     "output_type": "stream",
     "text": [
      "13/13 [==============================] - 29s 2s/step\n",
      "Category 1\n",
      "iou : 0.0033605999778956175\n",
      "dice: 0.006690099835395813\n",
      "13/13 [==============================] - 29s 2s/step\n",
      "Category 2\n",
      "iou : 0.009964300319552422\n",
      "dice: 0.0197237990796566\n",
      "13/13 [==============================] - 29s 2s/step\n",
      "Category 3\n",
      "iou : 0.015772299841046333\n",
      "dice: 0.031046800315380096\n",
      "13/13 [==============================] - 29s 2s/step\n",
      "Category 4\n",
      "iou : 0.024824099615216255\n",
      "dice: 0.04843800142407417\n",
      "13/13 [==============================] - 42s 3s/step\n",
      "Category 5\n",
      "iou : 0.07278910279273987\n",
      "dice: 0.1356942057609558\n",
      "Average IOU: 0.0253420805092901\n",
      "Average Dice: 0.0483185812830925\n"
     ]
    }
   ],
   "source": [
    "eval_model('base_model.hdf5')"
   ]
  },
  {
   "cell_type": "code",
   "execution_count": 112,
   "metadata": {},
   "outputs": [
    {
     "name": "stderr",
     "output_type": "stream",
     "text": [
      "2022-12-07 19:13:03.509131: I tensorflow/core/grappler/optimizers/custom_graph_optimizer_registry.cc:114] Plugin optimizer for device_type GPU is enabled.\n"
     ]
    },
    {
     "name": "stdout",
     "output_type": "stream",
     "text": [
      "13/13 [==============================] - 29s 2s/step\n",
      "Category 1\n",
      "iou : 0.056507598608732224\n",
      "dice: 0.10677459836006165\n",
      "13/13 [==============================] - 28s 2s/step\n",
      "Category 2\n",
      "iou : 0.15511339902877808\n",
      "dice: 0.2684659957885742\n",
      "13/13 [==============================] - 33s 3s/step\n",
      "Category 3\n",
      "iou : 0.30292779207229614\n",
      "dice: 0.4649254083633423\n",
      "13/13 [==============================] - 43s 3s/step\n",
      "Category 4\n",
      "iou : 0.35651201009750366\n",
      "dice: 0.5255857706069946\n",
      "13/13 [==============================] - 45s 4s/step\n",
      "Category 5\n",
      "iou : 0.6050001978874207\n",
      "dice: 0.7538836002349854\n",
      "Average IOU: 0.2952121995389462\n",
      "Average Dice: 0.4239270746707916\n"
     ]
    }
   ],
   "source": [
    "eval_model('cpl_unbalanced.h5')"
   ]
  },
  {
   "cell_type": "code",
   "execution_count": 113,
   "metadata": {},
   "outputs": [
    {
     "name": "stderr",
     "output_type": "stream",
     "text": [
      "2022-12-07 19:16:11.306394: I tensorflow/core/grappler/optimizers/custom_graph_optimizer_registry.cc:114] Plugin optimizer for device_type GPU is enabled.\n"
     ]
    },
    {
     "name": "stdout",
     "output_type": "stream",
     "text": [
      "13/13 [==============================] - 43s 3s/step\n",
      "Category 1\n",
      "iou : 0.07132740318775177\n",
      "dice: 0.13297079503536224\n",
      "13/13 [==============================] - 43s 3s/step\n",
      "Category 2\n",
      "iou : 0.22748729586601257\n",
      "dice: 0.3705432116985321\n",
      "13/13 [==============================] - 42s 3s/step\n",
      "Category 3\n",
      "iou : 0.33525100350379944\n",
      "dice: 0.5020859837532043\n",
      "13/13 [==============================] - 44s 3s/step\n",
      "Category 4\n",
      "iou : 0.4557693898677826\n",
      "dice: 0.626114010810852\n",
      "13/13 [==============================] - 46s 4s/step\n",
      "Category 5\n",
      "iou : 0.7261579036712646\n",
      "dice: 0.8413501977920532\n",
      "Average IOU: 0.3631985992193222\n",
      "Average Dice: 0.4946128398180008\n"
     ]
    }
   ],
   "source": [
    "eval_model('cpl_balanced.h5')"
   ]
  },
  {
   "cell_type": "code",
   "execution_count": 114,
   "metadata": {},
   "outputs": [
    {
     "name": "stderr",
     "output_type": "stream",
     "text": [
      "2022-12-07 19:22:39.280231: I tensorflow/core/grappler/optimizers/custom_graph_optimizer_registry.cc:114] Plugin optimizer for device_type GPU is enabled.\n"
     ]
    },
    {
     "name": "stdout",
     "output_type": "stream",
     "text": [
      "13/13 [==============================] - 28s 2s/step\n",
      "Category 1\n",
      "iou : 0.14958590269088745\n",
      "dice: 0.25998660922050476\n",
      "13/13 [==============================] - 26s 2s/step\n",
      "Category 2\n",
      "iou : 0.343948096036911\n",
      "dice: 0.5117455720901489\n",
      "13/13 [==============================] - 27s 2s/step\n",
      "Category 3\n",
      "iou : 0.4663054049015045\n",
      "dice: 0.635971188545227\n",
      "13/13 [==============================] - 27s 2s/step\n",
      "Category 4\n",
      "iou : 0.5754625797271729\n",
      "dice: 0.7305004000663757\n",
      "13/13 [==============================] - 29s 2s/step\n",
      "Category 5\n",
      "iou : 0.7967522144317627\n",
      "dice: 0.8868753910064697\n",
      "Average IOU: 0.4664108395576477\n",
      "Average Dice: 0.6050158321857453\n"
     ]
    }
   ],
   "source": [
    "eval_model('lg_balanced.h5')"
   ]
  },
  {
   "cell_type": "code",
   "execution_count": 115,
   "metadata": {},
   "outputs": [
    {
     "name": "stderr",
     "output_type": "stream",
     "text": [
      "2022-12-07 19:25:03.884269: I tensorflow/core/grappler/optimizers/custom_graph_optimizer_registry.cc:114] Plugin optimizer for device_type GPU is enabled.\n"
     ]
    },
    {
     "name": "stdout",
     "output_type": "stream",
     "text": [
      "13/13 [==============================] - 31s 2s/step\n",
      "Category 1\n",
      "iou : 0.26744669675827026\n",
      "dice: 0.42152079939842224\n",
      "13/13 [==============================] - 35s 3s/step\n",
      "Category 2\n",
      "iou : 0.43174439668655396\n",
      "dice: 0.6029621958732605\n",
      "13/13 [==============================] - 72s 6s/step\n",
      "Category 3\n",
      "iou : 0.5403130054473877\n",
      "dice: 0.7014977931976318\n",
      "13/13 [==============================] - 54s 4s/step\n",
      "Category 4\n",
      "iou : 0.623761773109436\n",
      "dice: 0.7682579159736633\n",
      "13/13 [==============================] - 47s 4s/step\n",
      "Category 5\n",
      "iou : 0.7528527975082397\n",
      "dice: 0.8589956760406494\n",
      "Average IOU: 0.5232237339019775\n",
      "Average Dice: 0.6706468760967255\n"
     ]
    }
   ],
   "source": [
    "eval_model('lg_unbalanced.h5')"
   ]
  },
  {
   "cell_type": "code",
   "execution_count": 116,
   "metadata": {},
   "outputs": [
    {
     "name": "stderr",
     "output_type": "stream",
     "text": [
      "2022-12-07 19:29:13.012500: I tensorflow/core/grappler/optimizers/custom_graph_optimizer_registry.cc:114] Plugin optimizer for device_type GPU is enabled.\n"
     ]
    },
    {
     "name": "stdout",
     "output_type": "stream",
     "text": [
      "13/13 [==============================] - 46s 4s/step\n",
      "Category 1\n",
      "iou : 0.03112870082259178\n",
      "dice: 0.06030679866671562\n",
      "13/13 [==============================] - 46s 4s/step\n",
      "Category 2\n",
      "iou : 0.08417230099439621\n",
      "dice: 0.15522019565105438\n",
      "13/13 [==============================] - 44s 3s/step\n",
      "Category 3\n",
      "iou : 0.12287890166044235\n",
      "dice: 0.2188224047422409\n",
      "13/13 [==============================] - 47s 4s/step\n",
      "Category 4\n",
      "iou : 0.21298609673976898\n",
      "dice: 0.3511398136615753\n",
      "13/13 [==============================] - 48s 4s/step\n",
      "Category 5\n",
      "iou : 0.45486781001091003\n",
      "dice: 0.6252923011779785\n",
      "Average IOU: 0.18120676204562186\n",
      "Average Dice: 0.28215630277991294\n"
     ]
    }
   ],
   "source": [
    "eval_model('log_cpl_unbalanced.h5')"
   ]
  },
  {
   "cell_type": "code",
   "execution_count": 4,
   "metadata": {},
   "outputs": [
    {
     "name": "stderr",
     "output_type": "stream",
     "text": [
      "2022-12-08 10:41:28.521915: W tensorflow/core/platform/profile_utils/cpu_utils.cc:128] Failed to get CPU frequency: 0 Hz\n",
      "2022-12-08 10:41:28.628926: I tensorflow/core/grappler/optimizers/custom_graph_optimizer_registry.cc:114] Plugin optimizer for device_type GPU is enabled.\n"
     ]
    },
    {
     "name": "stdout",
     "output_type": "stream",
     "text": [
      "13/13 [==============================] - 29s 2s/step\n",
      "Category 1\n",
      "iou : 0.021290499716997147\n",
      "dice: 0.04164940118789673\n",
      "13/13 [==============================] - 27s 2s/step\n",
      "Category 2\n",
      "iou : 0.04979820176959038\n",
      "dice: 0.09483770281076431\n",
      "13/13 [==============================] - 29s 2s/step\n",
      "Category 3\n",
      "iou : 0.07712479680776596\n",
      "dice: 0.1431758999824524\n",
      "13/13 [==============================] - 28s 2s/step\n",
      "Category 4\n",
      "iou : 0.11306949704885483\n",
      "dice: 0.20313960313796997\n",
      "13/13 [==============================] - 26s 2s/step\n",
      "Category 5\n",
      "iou : 0.2569184899330139\n",
      "dice: 0.40879279375076294\n",
      "Average IOU: 0.10364029705524444\n",
      "Average Dice: 0.17831908017396927\n"
     ]
    }
   ],
   "source": [
    "eval_model('log_cpl_balanced.h5')"
   ]
  }
 ],
 "metadata": {
  "kernelspec": {
   "display_name": "Python 3.9.13 ('tensorflow')",
   "language": "python",
   "name": "python3"
  },
  "language_info": {
   "codemirror_mode": {
    "name": "ipython",
    "version": 3
   },
   "file_extension": ".py",
   "mimetype": "text/x-python",
   "name": "python",
   "nbconvert_exporter": "python",
   "pygments_lexer": "ipython3",
   "version": "3.9.13 | packaged by conda-forge | (main, May 27 2022, 17:01:00) \n[Clang 13.0.1 ]"
  },
  "orig_nbformat": 4,
  "vscode": {
   "interpreter": {
    "hash": "4bd624a0593993fe43ac4046b27b898fb2ef75c21c08f81e89e64ea0f51df676"
   }
  }
 },
 "nbformat": 4,
 "nbformat_minor": 2
}
